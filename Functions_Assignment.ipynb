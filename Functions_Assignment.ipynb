{
  "nbformat": 4,
  "nbformat_minor": 0,
  "metadata": {
    "colab": {
      "provenance": []
    },
    "kernelspec": {
      "name": "python3",
      "display_name": "Python 3"
    },
    "language_info": {
      "name": "python"
    }
  },
  "cells": [
    {
      "cell_type": "markdown",
      "source": [
        "1. . What is the difference between a function and a method in Python?\n",
        "->Function:\n",
        "\n",
        "A function is a block of reusable code that is defined using the def keyword.\n",
        "It is not inherently tied to any particular object and can be called independently.\n",
        "\n",
        "Method:\n",
        "\n",
        "A method is a function that is associated with an object. It is defined within a class and is typically used to perform operations related to that object."
      ],
      "metadata": {
        "id": "nXNA1OUn94ZP"
      }
    },
    {
      "cell_type": "markdown",
      "source": [
        "2. . Explain the concept of function arguments and parameters in Python.\n",
        "->Parameters\n",
        "Definition:\n",
        "\n",
        " Parameters are variables defined in the function header (definition) that specify the data a function expects to receive when called.\n",
        "Purpose: They act as placeholders for the values (arguments) that will be provided during the function call.\n",
        "\n",
        "Arguments\n",
        "Definition:\n",
        "\n",
        "Arguments are the actual values or data provided to a function when it is called. They are assigned to the corresponding parameters defined in the function.\n",
        "Purpose: They provide the input data that the function will operate on."
      ],
      "metadata": {
        "id": "-KuuxUTw94WL"
      }
    },
    {
      "cell_type": "markdown",
      "source": [
        "3.  What are the different ways to define and call a function in Python?\n",
        "-> A standard function is defined using the def keyword and called by its name.\n",
        "\n"
      ],
      "metadata": {
        "id": "qI4aguzF94S_"
      }
    },
    {
      "cell_type": "markdown",
      "source": [
        "4. What is the purpose of the `return` statement in a Python function?\n",
        "\n",
        "->The return statement allows a function to send a result or value back to the caller. This makes the output of a function reusable in the rest of the program."
      ],
      "metadata": {
        "id": "i9Bxd9mD94Po"
      }
    },
    {
      "cell_type": "markdown",
      "source": [
        "5. . What are iterators in Python and how do they differ from iterables?\n",
        "\n",
        "->Both iterators and iterables are fundamental concepts in Python, particularly when dealing with loops and data processing. Here’s an explanation of what they are and how they differ:\n",
        "\n",
        "Iterable:\n",
        "\n",
        "Definition: An iterable is any object in Python that can return its elements one at a time. Examples include lists, tuples, dictionaries, strings, and sets.\n",
        "Key Feature: It must implement the __iter__() method, which returns an iterator.\n",
        "\n",
        "Iterator:\n",
        "\n",
        "Definition: An iterator is an object that represents a stream of data. It is the object returned by calling the __iter__() method of an iterable.\n",
        "Key Feature:\n",
        "It must implement two methods:\n",
        "__iter__(): Returns the iterator object itself.\n",
        "__next__(): Returns the next element in the sequence. Raises StopIteration when there are no more elements.\n",
        "\n"
      ],
      "metadata": {
        "id": "Tek6XIST94Mn"
      }
    },
    {
      "cell_type": "markdown",
      "source": [
        "6. Explain the concept of generators in Python and how they are defined.\n",
        "\n",
        "->A generator is a special type of iterable in Python that allows you to produce values one at a time, instead of storing all values in memory at once. Generators are particularly useful for handling large datasets or streams of data efficiently.\n",
        "A generator function is defined like a regular function but uses the yield keyword to return a value instead of return.\n",
        "When the function is called, it returns a generator object instead of executing the function immediately."
      ],
      "metadata": {
        "id": "GrAyyV3694GT"
      }
    },
    {
      "cell_type": "markdown",
      "source": [
        "7. What are the advantages of using generators over regular functions?\n",
        "\n",
        "->\n",
        "Generators provide several advantages over regular functions, especially when dealing with large data sets or streams of data. Here’s a detailed breakdown:\n",
        "\n",
        "1. Memory Efficiency\n",
        "\n",
        "Generators produce values one at a time and do not store the entire sequence in memory. This is in contrast to regular functions that might build and return large data structures like lists, which can consume a lot of memory.\n",
        "Use Case: Processing large files or data streams.\n",
        "\n",
        "2. Lazy Evaluation\n",
        "\n",
        "Generators compute values on-the-fly when requested. This reduces computation time when you only need part of the data or terminate processing early.\n",
        "Use Case: Infinite sequences or when only a subset of results is needed.\n",
        "\n",
        "3. Simplified Syntax for Iterators\n",
        "\n",
        "Generators simplify the creation of iterators. You don’t need to define and manage classes with __iter__ and __next__ methods.\n",
        "Use Case: When you need to create a custom iterator quickly."
      ],
      "metadata": {
        "id": "bVdRa7XE94DS"
      }
    },
    {
      "cell_type": "markdown",
      "source": [
        "8.  What is a lambda function in Python and when is it typically used?\n",
        "->A lambda function is a small, anonymous function in Python that is defined using the lambda keyword. Unlike regular functions defined using def, lambda functions are restricted to a single expression and are typically used for short, simple operations."
      ],
      "metadata": {
        "id": "YtqvzTkt94AO"
      }
    },
    {
      "cell_type": "markdown",
      "source": [
        "9. . Explain the purpose and usage of the `map()` function in Python.\n",
        "->The map() function in Python is used to apply a given function to each item in an iterable (e.g., list, tuple) and return a new iterable (a map object) containing the results. It is particularly useful for transforming data without requiring explicit loops."
      ],
      "metadata": {
        "id": "AbR5rIZO939N"
      }
    },
    {
      "cell_type": "markdown",
      "source": [
        "10. . What is the difference between `map()`, `reduce()`, and `filter()` functions in Python??\n",
        "->When to Use Each\n",
        "\n",
        "map(): When we want to transform or modify every element in an iterable.\n",
        "filter(): When we want to extract elements that meet a certain condition.\n",
        "reduce(): When we need to combine elements into a single result, such as summation or concatenation.\n",
        "\n"
      ],
      "metadata": {
        "id": "N2NiBnqK936Q"
      }
    },
    {
      "cell_type": "code",
      "source": [
        "# 1. Write a Python function that takes a list of numbers as input and returns the sum of all even numbers in the list.\n",
        "\n",
        "def sum_list(lst):\n",
        "  sum = 0\n",
        "  for num in lst:\n",
        "    if num%2 == 0:\n",
        "      sum += num\n",
        "  return sum\n"
      ],
      "metadata": {
        "id": "wQnFTA3yCdSI"
      },
      "execution_count": null,
      "outputs": []
    },
    {
      "cell_type": "code",
      "source": [
        "sum_list([1,2,3,4,5,6,7,8,9,10])"
      ],
      "metadata": {
        "colab": {
          "base_uri": "https://localhost:8080/"
        },
        "id": "57Qv22zjC8Z1",
        "outputId": "704581cd-db54-41eb-c315-c078b4f7974d"
      },
      "execution_count": null,
      "outputs": [
        {
          "output_type": "execute_result",
          "data": {
            "text/plain": [
              "30"
            ]
          },
          "metadata": {},
          "execution_count": 2
        }
      ]
    },
    {
      "cell_type": "code",
      "source": [
        "# 2. Create a Python function that accepts a string and returns the reverse of that string\n",
        "\n",
        "def rev_str(str):\n",
        "  return str[::-1]"
      ],
      "metadata": {
        "id": "6lsQEBesC9BX"
      },
      "execution_count": null,
      "outputs": []
    },
    {
      "cell_type": "code",
      "source": [
        "rev_str(\"Pwskills\")"
      ],
      "metadata": {
        "colab": {
          "base_uri": "https://localhost:8080/",
          "height": 36
        },
        "id": "igiDxV8RC9D7",
        "outputId": "f1f837c8-d3cc-4d2a-b74e-0bf7554158f9"
      },
      "execution_count": null,
      "outputs": [
        {
          "output_type": "execute_result",
          "data": {
            "text/plain": [
              "'sllikswP'"
            ],
            "application/vnd.google.colaboratory.intrinsic+json": {
              "type": "string"
            }
          },
          "metadata": {},
          "execution_count": 13
        }
      ]
    },
    {
      "cell_type": "code",
      "source": [
        "# 3. Implement a Python function that takes a list of integers and returns a new list containing the squares of each number.\n",
        "\n",
        "def sq_lst(lst):\n",
        "  result = []\n",
        "  for i in lst:\n",
        "    result.append(i**2)\n",
        "  return result"
      ],
      "metadata": {
        "id": "JFToJERvC9Gw"
      },
      "execution_count": null,
      "outputs": []
    },
    {
      "cell_type": "code",
      "source": [
        "sq_lst([1,2,3,4,5])"
      ],
      "metadata": {
        "colab": {
          "base_uri": "https://localhost:8080/"
        },
        "id": "2o-B9O3vC9Ra",
        "outputId": "891c1d53-6b36-4035-e115-227c6504ba8d"
      },
      "execution_count": null,
      "outputs": [
        {
          "output_type": "execute_result",
          "data": {
            "text/plain": [
              "[1, 4, 9, 16, 25]"
            ]
          },
          "metadata": {},
          "execution_count": 21
        }
      ]
    },
    {
      "cell_type": "code",
      "source": [
        "# 4. Write a Python function that checks if a given number is prime or not from 1 to 200.\n",
        "\n",
        "def is_prime(num):\n",
        "  if num == 1 or num == 2:\n",
        "    return \"Its a prime number\"\n",
        "  else:\n",
        "    for i in range(2,num):\n",
        "      if  num%i == 0:\n",
        "        return \"not Prime\"\n",
        "        break\n",
        "      else:\n",
        "        return \"Its a prime number\"\n",
        "\n",
        "\n",
        "\n"
      ],
      "metadata": {
        "id": "67eiizIwC9UP"
      },
      "execution_count": null,
      "outputs": []
    },
    {
      "cell_type": "code",
      "source": [
        "is_prime(13)\n"
      ],
      "metadata": {
        "colab": {
          "base_uri": "https://localhost:8080/",
          "height": 36
        },
        "id": "YS-laNs9C9W7",
        "outputId": "53994d27-6d77-4b25-fabf-e21e2c900a12"
      },
      "execution_count": null,
      "outputs": [
        {
          "output_type": "execute_result",
          "data": {
            "text/plain": [
              "'Its a prime number'"
            ],
            "application/vnd.google.colaboratory.intrinsic+json": {
              "type": "string"
            }
          },
          "metadata": {},
          "execution_count": 35
        }
      ]
    },
    {
      "cell_type": "code",
      "source": [
        "# 5. Create an iterator class in Python that generates the Fibonacci sequence up to a specified number of terms.\n",
        "\n",
        "def fib(num):\n",
        "  res = []\n",
        "  a= 0\n",
        "  b = 1\n",
        "  for i in range(num):\n",
        "    res.append(a)\n",
        "    a,b = b,a+b\n",
        "  return res"
      ],
      "metadata": {
        "id": "24kfloKuC9Zw"
      },
      "execution_count": null,
      "outputs": []
    },
    {
      "cell_type": "code",
      "source": [
        "fib(10)"
      ],
      "metadata": {
        "colab": {
          "base_uri": "https://localhost:8080/"
        },
        "id": "Pmx5PksfC9cn",
        "outputId": "3a767420-cd7b-4f8b-9ed0-515f3c9c6050"
      },
      "execution_count": null,
      "outputs": [
        {
          "output_type": "execute_result",
          "data": {
            "text/plain": [
              "[0, 1, 1, 2, 3, 5, 8, 13, 21, 34]"
            ]
          },
          "metadata": {},
          "execution_count": 45
        }
      ]
    },
    {
      "cell_type": "code",
      "source": [
        "# 6. Write a generator function in Python that yields the powers of 2 up to a given exponent.\n",
        "\n",
        "def gen(n):\n",
        "  yield 2**n"
      ],
      "metadata": {
        "id": "pgSw48AiC9fi"
      },
      "execution_count": 2,
      "outputs": []
    },
    {
      "cell_type": "code",
      "source": [
        "next(gen(3))"
      ],
      "metadata": {
        "id": "NbWpO6ZQC9lO",
        "colab": {
          "base_uri": "https://localhost:8080/"
        },
        "outputId": "68d93d8f-07f7-4a1f-87ae-a90e0db75a5f"
      },
      "execution_count": 8,
      "outputs": [
        {
          "output_type": "execute_result",
          "data": {
            "text/plain": [
              "8"
            ]
          },
          "metadata": {},
          "execution_count": 8
        }
      ]
    },
    {
      "cell_type": "code",
      "source": [
        "next(gen(2))"
      ],
      "metadata": {
        "colab": {
          "base_uri": "https://localhost:8080/"
        },
        "id": "vp2V7MqLAs6H",
        "outputId": "cc1a73c0-c979-4017-bad9-4cb6679d9d9a"
      },
      "execution_count": 9,
      "outputs": [
        {
          "output_type": "execute_result",
          "data": {
            "text/plain": [
              "4"
            ]
          },
          "metadata": {},
          "execution_count": 9
        }
      ]
    },
    {
      "cell_type": "code",
      "source": [
        "# 8. Use a lambda function in Python to sort a list of tuples based on the second element of each tuple.\n",
        "data = [(1, 3), (4, 1), (2, 5), (3, 2)]\n",
        "sorted_data = sorted(data,key = lambda x: x[1])\n",
        "print(sorted_data)\n",
        "\n",
        ""
      ],
      "metadata": {
        "colab": {
          "base_uri": "https://localhost:8080/"
        },
        "id": "IiCgUwDIBW4G",
        "outputId": "d8dc59dc-cc62-43a2-f554-e0829c10628d"
      },
      "execution_count": 31,
      "outputs": [
        {
          "output_type": "stream",
          "name": "stdout",
          "text": [
            "[(4, 1), (3, 2), (1, 3), (2, 5)]\n"
          ]
        }
      ]
    },
    {
      "cell_type": "code",
      "source": [
        "# 9.  Write a Python program that uses `map()` to convert a list of temperatures from Celsius to Fahrenheit\n",
        "\n",
        "lst = [1,2,3,4,5,6,7]\n",
        "print(list(map(lambda x: (x*9/5)+32,lst)))"
      ],
      "metadata": {
        "colab": {
          "base_uri": "https://localhost:8080/"
        },
        "id": "-jam2NLYBYpT",
        "outputId": "f554d404-e958-4c7f-de5d-8229e651c69c"
      },
      "execution_count": 34,
      "outputs": [
        {
          "output_type": "stream",
          "name": "stdout",
          "text": [
            "[33.8, 35.6, 37.4, 39.2, 41.0, 42.8, 44.6]\n"
          ]
        }
      ]
    },
    {
      "cell_type": "code",
      "source": [
        "# 10. Create a Python program that uses `filter()` to remove all the vowels from a given string\n",
        "string = \"This is an example string with vowels.\"\n",
        "def check(vowel):\n",
        "  return vowel not in 'aeiou'\n",
        "final_str = \"\".join(filter(check,string))\n",
        "print(final_str)"
      ],
      "metadata": {
        "colab": {
          "base_uri": "https://localhost:8080/"
        },
        "id": "p6pmf4UfBYkn",
        "outputId": "9bcccb7c-f47e-47a0-d92e-3c56643176bb"
      },
      "execution_count": 37,
      "outputs": [
        {
          "output_type": "stream",
          "name": "stdout",
          "text": [
            "Ths s n xmpl strng wth vwls.\n"
          ]
        }
      ]
    },
    {
      "cell_type": "code",
      "source": [],
      "metadata": {
        "id": "S1aW59bpBYiD"
      },
      "execution_count": null,
      "outputs": []
    },
    {
      "cell_type": "code",
      "source": [],
      "metadata": {
        "id": "xDFRjRt2BYfu"
      },
      "execution_count": null,
      "outputs": []
    },
    {
      "cell_type": "code",
      "source": [],
      "metadata": {
        "id": "7AaRIklUBYdJ"
      },
      "execution_count": null,
      "outputs": []
    },
    {
      "cell_type": "code",
      "source": [],
      "metadata": {
        "id": "nAIlP7VmBYam"
      },
      "execution_count": null,
      "outputs": []
    },
    {
      "cell_type": "code",
      "source": [],
      "metadata": {
        "id": "ZperecV8BYXz"
      },
      "execution_count": null,
      "outputs": []
    },
    {
      "cell_type": "code",
      "source": [],
      "metadata": {
        "id": "1YbtCJIDBYVW"
      },
      "execution_count": null,
      "outputs": []
    },
    {
      "cell_type": "code",
      "source": [],
      "metadata": {
        "id": "gj1Iu8_dBYSn"
      },
      "execution_count": null,
      "outputs": []
    },
    {
      "cell_type": "code",
      "source": [],
      "metadata": {
        "id": "ePspIkmoBYP5"
      },
      "execution_count": null,
      "outputs": []
    },
    {
      "cell_type": "code",
      "source": [],
      "metadata": {
        "id": "MxY09DoaBYNJ"
      },
      "execution_count": null,
      "outputs": []
    },
    {
      "cell_type": "code",
      "source": [],
      "metadata": {
        "id": "_o99tSs5BYKi"
      },
      "execution_count": null,
      "outputs": []
    },
    {
      "cell_type": "code",
      "source": [],
      "metadata": {
        "id": "J361lAqWBYH7"
      },
      "execution_count": null,
      "outputs": []
    },
    {
      "cell_type": "code",
      "source": [],
      "metadata": {
        "id": "RMhLi74ABYFW"
      },
      "execution_count": null,
      "outputs": []
    },
    {
      "cell_type": "code",
      "source": [],
      "metadata": {
        "id": "2j0z46OQBYCo"
      },
      "execution_count": null,
      "outputs": []
    },
    {
      "cell_type": "code",
      "source": [],
      "metadata": {
        "id": "KpuJS2pNBYAH"
      },
      "execution_count": null,
      "outputs": []
    },
    {
      "cell_type": "code",
      "source": [],
      "metadata": {
        "id": "kzVMZdQTBX9Z"
      },
      "execution_count": null,
      "outputs": []
    },
    {
      "cell_type": "code",
      "source": [],
      "metadata": {
        "id": "6O8K-zy8BX6u"
      },
      "execution_count": null,
      "outputs": []
    },
    {
      "cell_type": "code",
      "source": [],
      "metadata": {
        "id": "zvf0KDKWBXzl"
      },
      "execution_count": null,
      "outputs": []
    },
    {
      "cell_type": "code",
      "source": [],
      "metadata": {
        "id": "B3hCnGhHBXw6"
      },
      "execution_count": null,
      "outputs": []
    },
    {
      "cell_type": "code",
      "source": [],
      "metadata": {
        "id": "HX3gH3J1BXue"
      },
      "execution_count": null,
      "outputs": []
    }
  ]
}